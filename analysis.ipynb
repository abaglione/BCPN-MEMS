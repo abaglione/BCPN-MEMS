{
 "cells": [
  {
   "cell_type": "markdown",
   "metadata": {},
   "source": [
    "# Loading"
   ]
  },
  {
   "cell_type": "code",
   "execution_count": null,
   "metadata": {},
   "outputs": [],
   "source": [
    "# IO\n",
    "from pathlib import Path\n",
    "\n",
    "# Utility Libraries\n",
    "import re\n",
    "import itertools\n",
    "\n",
    "# Data Processing\n",
    "import numpy as np\n",
    "import pandas as pd\n",
    "\n",
    "# Feature Engineering\n",
    "from statsmodels.stats.outliers_influence import variance_inflation_factor as vif\n",
    "\n",
    "# Predictive Analytics\n",
    "from sklearn.linear_model import LogisticRegression\n",
    "from sklearn.ensemble import RandomForestClassifier\n",
    "from sklearn.svm import SVC\n",
    "from bcpn_pipeline import data, features, models, consts\n",
    "\n",
    "# Viz\n",
    "%matplotlib inline\n",
    "import seaborn as sns\n",
    "# sns.set_style(\"whitegrid\")\n",
    "\n",
    "import matplotlib.pyplot as plt\n",
    "plt.rcParams.update({'figure.autolayout': True})\n",
    "# plt.rcParams.update({'figure.facecolor': [1.0, 1.0, 1.0, 1.0]})\n",
    "\n",
    "# configure autoreloading of modules\n",
    "%load_ext autoreload\n",
    "%autoreload 2\n"
   ]
  },
  {
   "cell_type": "code",
   "execution_count": null,
   "metadata": {},
   "outputs": [],
   "source": [
    "# Load the data\n",
    "datafile = Path.joinpath(consts.DATA_PATH, 'final_merged_set_v6.csv')\n",
    "df = pd.read_csv(datafile, parse_dates=False)\n",
    "df.head()"
   ]
  },
  {
   "cell_type": "markdown",
   "metadata": {},
   "source": [
    "# Data Cleaning & Feature Engineering\n",
    "Thank you to Jason Brownlee\n",
    "https://machinelearningmastery.com/basic-data-cleaning-for-machine-learning/"
   ]
  },
  {
   "cell_type": "code",
   "execution_count": null,
   "metadata": {},
   "outputs": [],
   "source": [
    "# Instantiate a Dataset class\n",
    "dataset = data.Dataset(df, id_col = 'PtID')\n",
    "dataset"
   ]
  },
  {
   "cell_type": "code",
   "execution_count": null,
   "metadata": {},
   "outputs": [],
   "source": [
    "# -------- Perform an initial cleaning of the dataset ----------\n",
    "dataset.clean(to_rename = {**consts.RENAMINGS['demographics'], \n",
    "                             **consts.RENAMINGS['medical']}, \n",
    "              to_drop=[col for col in dataset.df.columns if '_Name' in col] + \n",
    "                      ['MemsNum', 'Monitor', 'pre_dx_date'],\n",
    "              to_map = consts.CODEBOOK,\n",
    "              to_binarize = ['race_other'],\n",
    "              onehots_to_reverse = ['race_']\n",
    "             )\n",
    "\n",
    "''' Set dtypes on remaining columns\n",
    "For now, naively assume we only have numerics, datetimes, or objects\n",
    "'''\n",
    "dtypes_dict = {\n",
    "    'numeric': [col for col in dataset.df.columns if 'date' not in col.lower()],\n",
    "    'datetime': ['DateEnroll'],\n",
    "    'categorical': list(set(list(consts.CODEBOOK.keys()) + \\\n",
    "                            ['race', 'education', 'birth_country',\n",
    "                               'marital_status', 'employment', 'income',\n",
    "                               'primary_language', 'race',\n",
    "                               'stage'\n",
    "                            ]\n",
    "                           )\n",
    "                       )\n",
    "    }\n",
    "\n",
    "dataset.set_dtypes(dtypes_dict)\n",
    "dataset.df.head()"
   ]
  },
  {
   "cell_type": "markdown",
   "metadata": {},
   "source": [
    "## Dynamic (Temporal) Features"
   ]
  },
  {
   "cell_type": "markdown",
   "metadata": {},
   "source": [
    "Extract temporal features by converting main dataset's df from wide-form to long-form."
   ]
  },
  {
   "cell_type": "code",
   "execution_count": null,
   "metadata": {},
   "outputs": [],
   "source": [
    "rows = []\n",
    "# Get a list of all date columns\n",
    "date_cols = list(dataset.df.filter(regex='date\\d{3}$').columns)\n",
    "\n",
    "i = 0\n",
    "for col in date_cols:\n",
    "\n",
    "    # Find all the time cols for that date col\n",
    "    time_cols = list(dataset.df.filter(\n",
    "        regex='MEMS_{date_col}_time\\d{{1}}$'.format(date_col=col)).columns)  \n",
    "\n",
    "    ''' Perform a melt so we get MEMS events stratified by patient\n",
    "        Be sure to include the \"within range\" column as one of the id_vars''' \n",
    "    additional_cols = [\n",
    "        {\n",
    "            'original': 'MEMS_' + col + '_numtimes',\n",
    "            'new': 'num_times_used_today'\n",
    "        }\n",
    "    ]\n",
    "    if i > 0: # The first date won't have an interval or withinrange\n",
    "        additional_cols.append(\n",
    "            {\n",
    "                'original': 'MEMS_' + col + '_interval',\n",
    "                'new': 'interval'\n",
    "            }\n",
    "        )\n",
    "        additional_cols.append(\n",
    "            {\n",
    "                'original': 'MEMS_' + col + '_withinrange',\n",
    "                'new': 'withinrange'\n",
    "            }\n",
    "        )\n",
    "    \n",
    "    all_id_col = [dataset.id_col, 'DateEnroll', col] + [x['original'] for x in additional_cols]\n",
    "    \n",
    "    res = dataset.df[all_id_col + time_cols].melt(id_vars = all_id_col)\n",
    "    \n",
    "    # Tidy up the resulting dataframe\n",
    "    res.rename(columns={col: 'date', 'value': 'time', 'variable': 'MEMS_day'}, \n",
    "               inplace=True)\n",
    "\n",
    "    res['MEMS_day'] =  res['MEMS_day'].apply(lambda x: int(re.sub(r'_time\\d*$', '', x.split('MEMS_date')[1])))\n",
    "    \n",
    "    res.rename(columns={x['original']:x['new'] for x in additional_cols},\n",
    "               inplace=True)\n",
    "\n",
    "#     res.drop(columns=['variable'], inplace=True)\n",
    "    \n",
    "    rows.append(res) # TODO - double check this...getting a weird warning about index alignment\n",
    "    i += 1\n",
    "\n",
    "horizons_df = pd.concat(rows, axis=0)\n",
    "\n",
    "# Create combined datetime column\n",
    "horizons_df['datetime'] = horizons_df.apply(\n",
    "    lambda x: features.get_datetime_col(x), axis=1\n",
    ")\n",
    "horizons_df['datetime'] = pd.to_datetime(horizons_df['datetime'], errors='coerce')\n",
    "\n",
    "# Fix dtypes\n",
    "horizons_df[['withinrange', 'num_times_used_today']] = horizons_df[['withinrange', 'num_times_used_today']].fillna(0).astype(int)\n",
    "horizons_df['date'] = pd.to_datetime(horizons_df['date'], errors='coerce')\n",
    "horizons_df['interval'] = pd.to_timedelta(horizons_df['interval']) # Handle NaT intervals for first day?\n",
    "\n",
    "'''Drop rows with an empty date column.\n",
    "  Do NOT drop empty time columns - may have dates where it is recorded that the patient\n",
    "  did not use the cap. So, would have a date but no time. Need this info to calculate\n",
    "  additional stats later\n",
    "''' \n",
    "horizons_df.dropna(subset=['date'], inplace=True)\n",
    "\n",
    "# Drop duplicates - these must have been introduced with the melt and with how Kristi's original data was structured\n",
    "horizons_df.drop_duplicates(inplace=True)\n",
    "\n",
    "# Remove observations that occurred before a subject's enrollment date\n",
    "horizons_df = horizons_df.loc[horizons_df['DateEnroll'] < horizons_df['date']]"
   ]
  },
  {
   "cell_type": "markdown",
   "metadata": {},
   "source": [
    "### Quick Look at Adherence For Whole Study"
   ]
  },
  {
   "cell_type": "code",
   "execution_count": null,
   "metadata": {},
   "outputs": [],
   "source": [
    "horizons_df.head()"
   ]
  },
  {
   "cell_type": "code",
   "execution_count": null,
   "metadata": {},
   "outputs": [],
   "source": [
    "len(horizons_df.PtID.unique())\n",
    "# So, 3 were dropped for insufficient data"
   ]
  },
  {
   "cell_type": "code",
   "execution_count": null,
   "metadata": {},
   "outputs": [],
   "source": [
    "# All remaining participants\n",
    "adherence = horizons_df.groupby('PtID').agg(\n",
    "    adherent=(\n",
    "        'withinrange', \n",
    "        lambda x: 1 if x.mean() >= 0.8 else 0\n",
    "    ),\n",
    ").reset_index()\n",
    "adherence.head()"
   ]
  },
  {
   "cell_type": "code",
   "execution_count": null,
   "metadata": {},
   "outputs": [],
   "source": [
    "adherence.shape[0]"
   ]
  },
  {
   "cell_type": "code",
   "execution_count": null,
   "metadata": {},
   "outputs": [],
   "source": [
    "print(f\"{round(adherence['adherent'].mean() * 100, 2)}% of participants were adherent across the whole study.\")"
   ]
  },
  {
   "cell_type": "code",
   "execution_count": null,
   "metadata": {},
   "outputs": [],
   "source": [
    "navigation_ids = [13,26,32,34,37,38,41,45,52,53,56,64,66,72,76,82]\n",
    "len(navigation_ids)"
   ]
  },
  {
   "cell_type": "code",
   "execution_count": null,
   "metadata": {},
   "outputs": [],
   "source": [
    "navigation = adherence[adherence['PtID'].isin(navigation_ids)]\n",
    "display(navigation.shape[0])\n",
    "print(f\"{round(navigation['adherent'].mean() * 100, 2)}% of participants who received patient navigation were adherent across the whole study.\")"
   ]
  },
  {
   "cell_type": "code",
   "execution_count": null,
   "metadata": {},
   "outputs": [],
   "source": [
    "no_navigation = adherence[~adherence['PtID'].isin(navigation_ids)]\n",
    "display(no_navigation.shape[0])\n",
    "print(f\"{round(no_navigation['adherent'].mean() * 100, 2)}% of participants who did not receive patient navigation were adherent across the whole study.\")"
   ]
  },
  {
   "cell_type": "markdown",
   "metadata": {},
   "source": [
    "### Generate new features"
   ]
  },
  {
   "cell_type": "code",
   "execution_count": null,
   "metadata": {},
   "outputs": [],
   "source": [
    "# Add binary indicator of any usage (not just number of times used) on a given day\n",
    "horizons_df['used_today'] = horizons_df['num_times_used_today'].apply(\n",
    "    lambda x: 1 if x > 0 else 0\n",
    ")\n",
    "\n",
    "'''Generate horizons of interest (time of day, weekday, day/month of study, etc)\n",
    "   'time_of_day' category gets automatically encoded as a Categorical\n",
    "''' \n",
    "horizons_df = features.get_temporal_feats(df=horizons_df, start_date_col='DateEnroll', \n",
    "                                          id_col='PtID', time_of_day_props=consts.TIME_OF_DAY_PROPS)\n",
    "\n",
    "# washout period of 1 month, per Kristi's recommendation\n",
    "horizons_df = horizons_df[horizons_df['study_month'] > 0].reset_index(drop=True)\n",
    "horizons_df['study_month'].min() # verify\n"
   ]
  },
  {
   "cell_type": "code",
   "execution_count": null,
   "metadata": {},
   "outputs": [],
   "source": [
    "''' Quick fix for duplicates that are introduced...\n",
    "      not sure of a better way to do this yet'''\n",
    "df = horizons_df[horizons_df.duplicated(['PtID', 'study_day', 'interval'])]\n",
    "df = df[df['num_times_used_today'] <= 1]\n",
    "horizons_df.drop(df.index, axis=0, inplace=True)\n",
    "horizons_df"
   ]
  },
  {
   "cell_type": "code",
   "execution_count": null,
   "metadata": {},
   "outputs": [],
   "source": [
    "horizons_df"
   ]
  },
  {
   "cell_type": "code",
   "execution_count": null,
   "metadata": {},
   "outputs": [],
   "source": [
    "def get_col_mode(x):\n",
    "    m = x.mode()\n",
    "    \n",
    "    if isinstance(m, str):\n",
    "        return m\n",
    "    else:\n",
    "        try:\n",
    "            first_mode = m[0]\n",
    "            return first_mode\n",
    "        except Exception as e:\n",
    "            return np.nan\n",
    "\n",
    "temporal_featuresets = list()\n",
    "'''Group by our desired horizon and add standard metrics such as mean, std\n",
    "'''\n",
    "\n",
    "for horizon in consts.TARGET_HORIZONS:\n",
    "    nominal_cols = []\n",
    "    groupby_cols = [dataset.id_col, horizon]\n",
    "    \n",
    "    # Get the total number of events for the given horizon\n",
    "    df = horizons_df.groupby(groupby_cols).agg(\n",
    "        n_events=('num_times_used_today', 'sum')\n",
    "    ).reset_index()\n",
    "    \n",
    "    \n",
    "    if horizon == 'study_day':\n",
    "        cols = ['is_weekday', 'day_of_week']\n",
    "        df2 = horizons_df[groupby_cols + cols]\n",
    "        df = df.merge(df2, on=groupby_cols, how='inner')\n",
    "        display(df)\n",
    "        \n",
    "        # Add columns indicating if the MEMS cap was used during a given time(s) of day\n",
    "        # Basically a manual one-hot encoding while we're here\n",
    "        col = 'time_of_day'\n",
    "        df2 = horizons_df.groupby(groupby_cols)[col].value_counts().reset_index(name='count')\n",
    "        df2.rename(columns={'level_2': col}, inplace=True)\n",
    "        display(df2)\n",
    "        \n",
    "        df2 = df2.pivot_table(\n",
    "            columns=col, index=['PtID', 'study_day'], values='count'\n",
    "        ).reset_index().rename_axis(None, axis=1)\n",
    "        display(df2)\n",
    "        \n",
    "        df = df.merge(df2, on=groupby_cols, how='inner')\n",
    "        display(df)\n",
    "\n",
    "        for col in consts.TIME_OF_DAY_PROPS['labels']:\n",
    "            df[col] = pd.to_numeric(df[col].fillna(0).apply(lambda x: 1 if x > 0 else x))\n",
    "        \n",
    "        cols = {x: 'time_of_day_' + x for x in consts.TIME_OF_DAY_PROPS['labels']}\n",
    "        df.rename(columns=cols,\n",
    "                  inplace=True)\n",
    "        \n",
    "        # Add to list of nominal cols after one-hot encoding\n",
    "        nominal_cols += [col for col in cols.values()]\n",
    "        \n",
    "    else:\n",
    "        if horizon == 'study_week':\n",
    "            denom = consts.DAYS_IN_WEEK\n",
    "        else:\n",
    "            denom = consts.DAYS_IN_MONTH\n",
    "        \n",
    "        # Get standard temporal metrics\n",
    "        df2 = features.calc_standard_temporal_metrics(horizons_df, groupby_cols, 'datetime')\n",
    "        df = df.merge(df2, on=groupby_cols, how='inner')\n",
    "\n",
    "        # Calculate avg and standard deviation of number of times used\n",
    "        df2 = horizons_df.groupby(groupby_cols + ['study_day'])['num_times_used_today'].max().reset_index()\n",
    "        df2 = horizons_df.groupby(groupby_cols).agg(\n",
    "            num_daily_events_mean=('num_times_used_today', lambda x: x.sum() / denom)\n",
    "        ).reset_index()\n",
    "\n",
    "        df = df.merge(df2, on=groupby_cols, how='inner')\n",
    "\n",
    "        # Get most common time of day of event occurence\n",
    "        df2 = horizons_df.groupby(groupby_cols).agg(\n",
    "            event_time_of_day_mode=('time_of_day', get_col_mode)\n",
    "        ).reset_index()\n",
    "\n",
    "        df = df.merge(df2, on=groupby_cols, how='inner')\n",
    "        display(df)\n",
    "        \n",
    "        # Explicitly set dtype so we can later select and one-hot encode\n",
    "        df['event_time_of_day_mode'] = df['event_time_of_day_mode'].astype('category') \n",
    "\n",
    "    # Calculate adherence rate\n",
    "    if 'day' in horizon:\n",
    "        df2 = horizons_df.groupby(groupby_cols).agg(\n",
    "            adherence_rate=('withinrange', 'max')\n",
    "        ).reset_index()\n",
    "    else:\n",
    "        df2 = horizons_df.groupby(groupby_cols + ['study_day'])['withinrange'].max().reset_index() # Max will be 1 or 0\n",
    "        df2 = df2.groupby(groupby_cols).agg(\n",
    "            adherence_rate=('withinrange', lambda x: x.sum() / denom)\n",
    "        ).reset_index()\n",
    "    \n",
    "    df = df.merge(df2, on=groupby_cols, how='inner')\n",
    "    \n",
    "    # Help pandas since it doesn't process datetimes well and introduces duplicate entries on merges\n",
    "    df = df.drop_duplicates(subset=groupby_cols)\n",
    "    \n",
    "    # Create a featureset from the resulting dataframe\n",
    "    temporal_featuresets.append(features.Featureset(df=df,\n",
    "                                                    name=horizon, #Intentional for now - using horizon as name\n",
    "                                                    id_col=dataset.id_col,\n",
    "                                                    horizon=horizon,\n",
    "                                                    nominal_cols = nominal_cols))"
   ]
  },
  {
   "cell_type": "code",
   "execution_count": null,
   "metadata": {},
   "outputs": [],
   "source": [
    "# Sanity check\n",
    "temporal_featuresets[0].df.select_dtypes('category')"
   ]
  },
  {
   "cell_type": "code",
   "execution_count": null,
   "metadata": {},
   "outputs": [],
   "source": [
    "temporal_featuresets[0].df.iloc[-1]"
   ]
  },
  {
   "cell_type": "code",
   "execution_count": null,
   "metadata": {},
   "outputs": [],
   "source": [
    "temporal_featuresets[1].nominal_cols"
   ]
  },
  {
   "cell_type": "markdown",
   "metadata": {},
   "source": [
    "### Examine Collinearity and Variance Inflation Factor"
   ]
  },
  {
   "cell_type": "code",
   "execution_count": null,
   "metadata": {},
   "outputs": [],
   "source": [
    "# Study Day\n",
    "df = temporal_featuresets[0].df\n",
    "df.select_dtypes('number').corr()"
   ]
  },
  {
   "cell_type": "code",
   "execution_count": null,
   "metadata": {},
   "outputs": [],
   "source": [
    "df2 = df.select_dtypes('number').drop(columns=['PtID', 'adherence_rate'])\n",
    "vif_data = pd.DataFrame()\n",
    "vif_data[\"feature\"] = df2.columns\n",
    "vif_data[\"VIF\"]  = [vif(df2.values, i) for i in range(len(df2.columns))]\n",
    "vif_data"
   ]
  },
  {
   "cell_type": "code",
   "execution_count": null,
   "metadata": {},
   "outputs": [],
   "source": [
    "# Drop a few to see if we improve\n",
    "df2 = df.select_dtypes('number').drop(columns=['PtID', 'adherence_rate', 'n_events'])\n",
    "vif_data = pd.DataFrame()\n",
    "vif_data[\"feature\"] = df2.columns\n",
    "vif_data[\"VIF\"]  = [vif(df2.values, i) for i in range(len(df2.columns))]\n",
    "vif_data\n",
    "\n",
    "# Yep - looks much better"
   ]
  },
  {
   "cell_type": "code",
   "execution_count": null,
   "metadata": {},
   "outputs": [],
   "source": [
    "# Drop in the actual featureset and verify it's been dropped\n",
    "temporal_featuresets[0].df.drop(columns=['n_events'], inplace=True)\n",
    "print(temporal_featuresets[0].df.columns)\n",
    "temporal_featuresets[0]"
   ]
  },
  {
   "cell_type": "code",
   "execution_count": null,
   "metadata": {},
   "outputs": [],
   "source": [
    "# Study Week\n",
    "df = temporal_featuresets[1].df.select_dtypes('number')\n",
    "df.corr()"
   ]
  },
  {
   "cell_type": "code",
   "execution_count": null,
   "metadata": {},
   "outputs": [],
   "source": [
    "df2 = df.select_dtypes('number').drop(columns=['PtID', 'adherence_rate'])\n",
    "vif_data = pd.DataFrame()\n",
    "vif_data[\"feature\"] = df2.columns\n",
    "vif_data[\"VIF\"]  = [vif(df2.values, i) for i in range(len(df2.columns))]\n",
    "vif_data"
   ]
  },
  {
   "cell_type": "code",
   "execution_count": null,
   "metadata": {},
   "outputs": [],
   "source": [
    "# Drop n_events, n_daily_events mean, and between event time mean to see if we improve\n",
    "df2 = df.select_dtypes('number').drop(columns=['n_events', 'between_event_time_mean', 'num_daily_events_mean', 'PtID', 'adherence_rate'])\n",
    "vif_data = pd.DataFrame()\n",
    "vif_data[\"feature\"] = df2.columns\n",
    "vif_data[\"VIF\"]  = [vif(df2.values, i) for i in range(len(df2.columns))]\n",
    "vif_data\n",
    "\n",
    "# Yep - looks much better"
   ]
  },
  {
   "cell_type": "code",
   "execution_count": null,
   "metadata": {},
   "outputs": [],
   "source": [
    "# Drop in the actual featureset and verify it's been dropped\n",
    "temporal_featuresets[1].df.drop(columns=['n_events', 'between_event_time_mean', 'num_daily_events_mean'], inplace=True)\n",
    "print(temporal_featuresets[1].df.columns)\n",
    "temporal_featuresets[1]"
   ]
  },
  {
   "cell_type": "code",
   "execution_count": null,
   "metadata": {},
   "outputs": [],
   "source": [
    "for fs in temporal_featuresets:\n",
    "    print(fs.name)\n",
    "    for col in fs.df.columns:\n",
    "        if col != fs.id_col:\n",
    "            try:\n",
    "                plt.hist(fs.df[col])\n",
    "                plt.title(col)\n",
    "                plt.show()\n",
    "            except:\n",
    "                pass"
   ]
  },
  {
   "cell_type": "markdown",
   "metadata": {},
   "source": [
    "# Prediction"
   ]
  },
  {
   "cell_type": "code",
   "execution_count": null,
   "metadata": {},
   "outputs": [],
   "source": [
    "# Sanity check - this column should NOT be in the final set\n",
    "# static_featuresets[0].df['total_days_8']"
   ]
  },
  {
   "cell_type": "code",
   "execution_count": null,
   "metadata": {},
   "outputs": [],
   "source": [
    "target_col = 'adherent'\n",
    "\n",
    "'''Set the target columns on the temporal featuresets\n",
    "   This step should be run before doing any experiments\n",
    "''' \n",
    "for t_feats in temporal_featuresets:\n",
    "    \n",
    "    #Convert adherence_rate into a binary indicator of adherence\n",
    "    t_feats.df[target_col] = t_feats.df['adherence_rate'].apply(\n",
    "        lambda x: 1 if x > consts.ADHERENCE_THRESHOLD else 0\n",
    "    )\n",
    "    # Drop the original column\n",
    "    t_feats.df.drop(columns=['adherence_rate'], inplace=True)\n",
    "\n",
    "    # Set the target col\n",
    "    t_feats.target_col = target_col\n",
    "    \n",
    "    '''For now, treat the target as a nominal column\n",
    "      This is because, if we use lagged values of the target (e.g., adherent),\n",
    "         those columns will be considered nominal, and we'll need to use the target col as a name\n",
    "         against which to find and check those columns.\n",
    "      There's a safeguard in place later, in the get_lagged_featureset function, \n",
    "        to ensure the target itself is NOT included in the final list of nominal columns.'''\n",
    "    t_feats.nominal_cols += [target_col]"
   ]
  },
  {
   "cell_type": "code",
   "execution_count": null,
   "metadata": {},
   "outputs": [],
   "source": [
    "temporal_featuresets[0].df"
   ]
  },
  {
   "cell_type": "code",
   "execution_count": null,
   "metadata": {},
   "outputs": [],
   "source": [
    "test = temporal_featuresets[1].prep_for_modeling(n_lags=\n",
    "                                                 3)"
   ]
  },
  {
   "cell_type": "code",
   "execution_count": null,
   "metadata": {},
   "outputs": [],
   "source": [
    "assert not test.df.isnull().values.any()"
   ]
  },
  {
   "cell_type": "markdown",
   "metadata": {},
   "source": [
    "## Study: Predict Adherence from MEMS Data Only"
   ]
  },
  {
   "cell_type": "markdown",
   "metadata": {},
   "source": [
    "### Tune number of lags"
   ]
  },
  {
   "cell_type": "code",
   "execution_count": null,
   "metadata": {},
   "outputs": [],
   "source": [
    "''' Test the model performance for a range of lags (number of previous inputs)\n",
    "      and range of max_depths (since training with RF by default)\n",
    "    max_depth exploration will help ensure we aren't overfitting.\n",
    "'''\n",
    "for t_feats in temporal_featuresets:\n",
    "    models.tune_lags(t_feats)"
   ]
  },
  {
   "cell_type": "code",
   "execution_count": null,
   "metadata": {},
   "outputs": [],
   "source": [
    "# Plot and analyze results\n",
    "\n",
    "results = []\n",
    "\n",
    "for f in consts.OUTPUT_PATH_LAGS.glob('*final_clf_pred.csv'):\n",
    "    df = pd.read_csv(f)\n",
    "    results.append(df)\n",
    "\n",
    "results = pd.concat(results, axis=0).reset_index(drop=True)\n",
    "results.drop(columns=['Unnamed: 0'], inplace=True)\n",
    "results.rename(columns={'featureset': 'Feature Set'}, inplace=True)\n",
    "results"
   ]
  },
  {
   "cell_type": "code",
   "execution_count": null,
   "metadata": {},
   "outputs": [],
   "source": [
    "for col in ['n_lags', 'accuracy', 'max_depth']:\n",
    "    results[col] = pd.to_numeric(results[col])\n",
    "results"
   ]
  },
  {
   "cell_type": "code",
   "execution_count": null,
   "metadata": {},
   "outputs": [],
   "source": [
    "plt.rcParams.update({'font.size': 14})"
   ]
  },
  {
   "cell_type": "code",
   "execution_count": null,
   "metadata": {},
   "outputs": [],
   "source": [
    "# '''\n",
    "# Takeaways:\n",
    "\n",
    "# - study_day: 3 lags with max_depth 2 best for study_day - some overfitting, but not dramatic. \n",
    "# Overfitting worsens beyond this.\n",
    "\n",
    "# - study_week: 3 lags with shallow tree (max_depth=2) best for study week. \n",
    "# Overfitting worsens after that, with no major gain in performance\n",
    "# '''\n",
    "\n",
    "fig, axes = plt.subplots(1, 2, figsize=(14, 6), sharex=True, sharey=True)\n",
    "results.rename(columns={col: col.capitalize() for col in ['type']}, inplace=True)\n",
    "for max_depth in range(1, 3):\n",
    "    df = results[results['max_depth'] == max_depth]\n",
    "    \n",
    "    g = sns.lineplot(x='n_lags',y='specificity', hue='Feature Set', \n",
    "                     style='Type', data=df, ax=axes[max_depth-1],\n",
    "                     legend=(max_depth==2))\n",
    "    g.set( ylim=(0, 1), title='Max Depth: ' + str(max_depth), ylabel='Specificity', xlabel='Lags')\n",
    "    \n",
    "axes[0].set(xlabel='(A)')\n",
    "axes[1].legend(loc=(1.1, 0.5))\n",
    "axes[1].set(xlabel='(B)')\n",
    "plt.savefig(Path.joinpath(consts.OUTPUT_PATH_LAGS, 'spec_md1_2.png'), bbox_inches='tight',\n",
    "           facecolor='white', transparent=True\n",
    "           )\n",
    "plt.show()\n",
    "\n",
    "fig, axes = plt.subplots(1, 3, figsize=(21, 6), sharex=True, sharey=True)\n",
    "\n",
    "\n",
    "for max_depth in range(3, 6):\n",
    "    df = results[results['max_depth'] == max_depth]\n",
    "    \n",
    "    g = sns.lineplot(x='n_lags',y='specificity', hue='Feature Set', \n",
    "                     style='Type', data=df, ax=axes[max_depth-3],\n",
    "                     legend=(max_depth==5))\n",
    "    g.set( ylim=(0, 1), title='Max Depth: ' + str(max_depth), ylabel='Specificity', xlabel='Lags')\n",
    "    \n",
    "axes[2].legend(loc=(1.1, 0.5))\n",
    "plt.savefig(Path.joinpath(consts.OUTPUT_PATH_LAGS, 'spec_md3_5.png'), bbox_inches='tight',\n",
    "           facecolor='white', transparent=True\n",
    "           )\n",
    "plt.show()\n"
   ]
  },
  {
   "cell_type": "markdown",
   "metadata": {},
   "source": [
    "### Do prediction task"
   ]
  },
  {
   "cell_type": "code",
   "execution_count": null,
   "metadata": {},
   "outputs": [],
   "source": [
    "# # ----- Now predict using optimal number of lags for each horizon--- \n",
    "for t_feats in temporal_featuresets:    \n",
    "    \n",
    "    ''' These max_depth are for the default (baseline) classifiers only.\n",
    "    Useful for benchmarking studies.'''\n",
    "\n",
    "    fs_lagged = t_feats.prep_for_modeling(n_lags=3)\n",
    "    kwargs = {'max_depth': 2}\n",
    "    models.predict_from_mems(fs_lagged, tune=True, select_feats=True, **kwargs)           "
   ]
  }
 ],
 "metadata": {
  "kernelspec": {
   "display_name": "Python 3 (ipykernel)",
   "language": "python",
   "name": "python3"
  },
  "language_info": {
   "codemirror_mode": {
    "name": "ipython",
    "version": 3
   },
   "file_extension": ".py",
   "mimetype": "text/x-python",
   "name": "python",
   "nbconvert_exporter": "python",
   "pygments_lexer": "ipython3",
   "version": "3.10.13"
  }
 },
 "nbformat": 4,
 "nbformat_minor": 4
}
