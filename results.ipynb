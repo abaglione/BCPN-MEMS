{
 "cells": [
  {
   "cell_type": "code",
   "execution_count": null,
   "metadata": {},
   "outputs": [],
   "source": [
    "# IO\n",
    "import glob\n",
    "from pathlib import Path\n",
    "try:\n",
    "    import cPickle as pickle\n",
    "except ModuleNotFoundError:\n",
    "    import pickle\n",
    "\n",
    "# Utility Libraries\n",
    "import math\n",
    "from datetime import datetime\n",
    "import re\n",
    "import csv\n",
    "import itertools\n",
    "import inflection\n",
    "\n",
    "# Data Processing\n",
    "import pandas as pd\n",
    "import numpy as np\n",
    "from bcpn_pipeline import data, features, models, consts\n",
    "import shap\n",
    "\n",
    "# Viz\n",
    "%matplotlib inline\n",
    "import matplotlib as mpl\n",
    "from matplotlib.dates import DateFormatter\n",
    "from matplotlib.cbook import boxplot_stats\n",
    "import matplotlib.dates as mdates\n",
    "import matplotlib.transforms as mtrans\n",
    "import seaborn as sns\n",
    "sns.set_style(\"whitegrid\")\n",
    "\n",
    "import matplotlib.pyplot as plt\n",
    "plt.rcParams.update(\n",
    "    {'figure.autolayout': True, \n",
    "    }\n",
    ")\n",
    "# plt.rcParams.update({'figure.facecolor': [1.0, 1.0, 1.0, 1.0]})\n",
    "\n",
    "# configure autoreloading of modules\n",
    "%load_ext autoreload\n",
    "%autoreload 2\n"
   ]
  },
  {
   "cell_type": "markdown",
   "metadata": {},
   "source": [
    "# Load Results"
   ]
  },
  {
   "cell_type": "code",
   "execution_count": null,
   "metadata": {},
   "outputs": [],
   "source": [
    "pred_res = []\n",
    "for f in consts.OUTPUT_PATH_PRED.glob('*_pred.csv'):\n",
    "    df = pd.read_csv(f)\n",
    "    pred_res.append(df)\n",
    "    \n",
    "pred_res = pd.concat(pred_res, axis=0).reset_index(drop=True)\n",
    "pred_res.drop(columns=['Unnamed: 0'], inplace=True)\n",
    "pred_res"
   ]
  },
  {
   "cell_type": "code",
   "execution_count": null,
   "metadata": {},
   "outputs": [],
   "source": [
    "auc_res = []\n",
    "for f in consts.OUTPUT_PATH_PRED.glob('*_auc.csv'):\n",
    "    df = pd.read_csv(f)\n",
    "    auc_res.append(df)\n",
    "    \n",
    "auc_res = pd.concat(auc_res, axis=0).reset_index(drop=True)\n",
    "auc_res.drop(columns=['Unnamed: 0'], inplace=True)\n",
    "auc_res"
   ]
  },
  {
   "cell_type": "code",
   "execution_count": null,
   "metadata": {},
   "outputs": [],
   "source": [
    "roc_res = []\n",
    "for f in consts.OUTPUT_PATH_PRED.glob('*_roc.csv'):\n",
    "    df = pd.read_csv(f)\n",
    "    roc_res.append(df)\n",
    "    \n",
    "roc_res = pd.concat(roc_res, axis=0).reset_index(drop=True)\n",
    "roc_res.drop(columns=['Unnamed: 0'], inplace=True)\n",
    "roc_res"
   ]
  },
  {
   "cell_type": "code",
   "execution_count": null,
   "metadata": {},
   "outputs": [],
   "source": [
    "auc_res['type'] = 'test'\n",
    "roc_res['type'] = 'test'"
   ]
  },
  {
   "cell_type": "code",
   "execution_count": null,
   "metadata": {},
   "outputs": [],
   "source": [
    "# Get aggregate results (including mean, std, and variance) across runs, by featureset and method\n",
    "agg_res = None\n",
    "pred_res_agg = pd.DataFrame()\n",
    "groupby_cols = ['featureset', 'method', 'features_selected', 'tuned', 'type']\n",
    "metrics = ['accuracy', 'precision', 'sensitivity', 'specificity', 'f1_score']\n",
    "\n",
    "for metric in metrics:\n",
    "    agg_funcs = ['mean', 'std', 'var']\n",
    "    if metric != 'f1_score':\n",
    "        pred_res[metric] = pred_res[metric] * 100 # Scale to be reported as a percentage\n",
    "    df = pred_res.groupby(groupby_cols)[metric].agg(agg_funcs).reset_index()\n",
    "    df.rename(columns={col: f'{metric}_{col}' for col in agg_funcs}, inplace=True)\n",
    "\n",
    "    if pred_res_agg.empty:\n",
    "        pred_res_agg = df\n",
    "    else:\n",
    "        pred_res_agg = pred_res_agg.merge(df, on=groupby_cols)\n",
    "\n",
    "pred_res_agg = pred_res_agg.merge(auc_res[['auc_mean', 'auc_std'] + groupby_cols], on=groupby_cols, how='outer')\n",
    "pred_res_agg.fillna(-1, inplace=True)\n",
    "# pred_res_agg.to_csv(Path.joinpath(consts.OUTPUT_PATH_PRED, 'pred_agg.csv'))\n",
    "pred_res_agg"
   ]
  },
  {
   "cell_type": "code",
   "execution_count": null,
   "metadata": {},
   "outputs": [],
   "source": [
    "# Format column stats as mean +- std\n",
    "# Note that train AUC was not obtained, so it will be -1 +- (-1), as expected after filling nans\n",
    "\n",
    "for metric in metrics + ['auc']:\n",
    "    pred_res_agg.rename(columns={f'{metric}_mean': metric}, inplace=True)\n",
    "    pred_res_agg[metric] = pred_res_agg.apply(\n",
    "        lambda x: '%0.2f $\\pm$ %0.2f' % (x[metric], x[metric + '_std']),\n",
    "        axis=1\n",
    "    )\n",
    "pred_res_agg = pred_res_agg[groupby_cols + metrics + ['auc']]\n",
    "# pred_res_agg.to_csv(Path.joinpath(consts.OUTPUT_PATH_PRED, 'pred_agg_condensed.csv'))\n",
    "pred_res_agg"
   ]
  },
  {
   "cell_type": "code",
   "execution_count": null,
   "metadata": {},
   "outputs": [],
   "source": [
    "roc_res"
   ]
  },
  {
   "cell_type": "code",
   "execution_count": null,
   "metadata": {},
   "outputs": [],
   "source": [
    "# Create legend labels for ROC curve plotting (pull these over from auc_res)\n",
    "\n",
    "merge_cols =  [col for col in roc_res.columns if '_mean' not in col and '_std' not in col] \n",
    "roc_res = roc_res.merge(auc_res, on=merge_cols)\n",
    "\n",
    "roc_res['legend_label'] = roc_res.apply(\n",
    "    lambda x: '%s (AUC = %0.2f $\\pm$ %0.2f)' % (x['method'], x['auc_mean'], x['auc_std']),\n",
    "    axis=1\n",
    ")\n",
    "roc_res"
   ]
  },
  {
   "cell_type": "markdown",
   "metadata": {},
   "source": [
    "# ROC Curves"
   ]
  },
  {
   "cell_type": "code",
   "execution_count": null,
   "metadata": {},
   "outputs": [],
   "source": [
    "featuresets = list(roc_res.featureset.unique())\n",
    "methods = list(roc_res.method.unique())\n",
    "\n",
    "fs_titles = {fs: None for fs in featuresets}\n",
    "for fs in fs_titles.keys():\n",
    "    title = 'Next-' \n",
    "    if 'day' in fs:\n",
    "        title = title + 'Day'\n",
    "    elif 'week' in fs:\n",
    "        title = title + 'Week'\n",
    "    elif 'month' in fs:\n",
    "        title = title + 'Month'\n",
    "    \n",
    "    title = title + ' Prediction w/' + ('Full' if 'all_scores' in fs else 'MEMS-Only') + ' Feature Set'\n",
    "    fs_titles[fs] = title\n",
    "fs_titles"
   ]
  },
  {
   "cell_type": "code",
   "execution_count": null,
   "metadata": {},
   "outputs": [],
   "source": [
    "featuresets"
   ]
  },
  {
   "cell_type": "markdown",
   "metadata": {},
   "source": [
    "## Optimized methods"
   ]
  },
  {
   "cell_type": "code",
   "execution_count": null,
   "metadata": {},
   "outputs": [],
   "source": [
    "fig, axes = plt.subplots(1, 2, figsize=(15,7.5), sharex=True, sharey=True)\n",
    "\n",
    "for i, fs in enumerate(featuresets):\n",
    "    \n",
    "    df = roc_res[(roc_res['featureset'] == fs) & (roc_res['tuned'] ==  True) & (roc_res['features_selected'] == True)]\n",
    "    g = sns.lineplot(x='fpr_mean', y='tpr_mean', hue='legend_label', data=df, ax=axes[i])\n",
    "    g.plot([0, 1], [0, 1], linestyle='--', lw=2, color='black',\n",
    "            label='Chance', alpha=.8)\n",
    "    axes[i].legend(title='', fontsize=12)\n",
    "  \n",
    "axes[0].set(xlabel='(A)', ylabel='')\n",
    "axes[1].set(xlabel='(B)')\n",
    "\n",
    "# fig.legend(title='Model', loc='upper center')\n",
    "fig.supxlabel('False Positive Rate', x = (fig.subplotpars.right + fig.subplotpars.left)/1.9)\n",
    "fig.supylabel('True Positive Rate', y = (fig.subplotpars.top + fig.subplotpars.bottom)/1.65)\n",
    "\n",
    "plt.savefig(Path.joinpath(consts.OUTPUT_PATH_PRED, f'roc_curves_optimized_{fs}.png'))\n",
    "plt.show()"
   ]
  },
  {
   "cell_type": "code",
   "execution_count": null,
   "metadata": {},
   "outputs": [],
   "source": [
    "featuresets"
   ]
  },
  {
   "cell_type": "markdown",
   "metadata": {},
   "source": [
    "# Feature Importance"
   ]
  },
  {
   "cell_type": "code",
   "execution_count": null,
   "metadata": {},
   "outputs": [],
   "source": [
    "# # Individual graphs\n",
    "# for fs in featuresets:\n",
    "#     n_lags = pred_res[pred_res['featureset'] == fs]['n_lags'].iloc[0]\n",
    "        \n",
    "#     '''5-repeated 5-fold cross validation\n",
    "#     Feature importance calculated for tuned classifiers and test sets only\n",
    "#     Iterate through all runs and all folds to get feature importance graphs'''\n",
    "#     for method, run, fold in [(method, run, fold) for method in methods for run in range(0, 5) for fold in range(0,5)]:\n",
    "#         values = None\n",
    "#         f_png = None\n",
    "        \n",
    "#         # Get first match (loop results in only one file)\n",
    "#         for f in consts.OUTPUT_PATH_PRED.glob(f'shap_values_{fs}_{method}*_tuned_run_{run}_fold_{fold}.pkl'):\n",
    "#             f_png = Path.joinpath(f.parent, f'{f.stem}.png')\n",
    "#             values = pickle.load(open(f, 'rb'))\n",
    "#             break\n",
    "        \n",
    "#         if method == 'RF' or method == 'SVM': # Get results for positive class only\n",
    "#             values = values[:, :, 1]\n",
    "\n",
    "#         shap.plots.bar(values, show=False)\n",
    "# #         plt.savefig(f_png)\n",
    "#         plt.show()"
   ]
  },
  {
   "cell_type": "code",
   "execution_count": null,
   "metadata": {},
   "outputs": [],
   "source": [
    "plt.rcParams.update({'font.size': 20})\n",
    "\n",
    "for fs in featuresets:\n",
    "    \n",
    "    n_lags = pred_res[pred_res['featureset'] == fs]['n_lags'].iloc[0]\n",
    "    \n",
    "    '''5-repeated 5-fold cross validation\n",
    "    Feature importance calculated for tuned classifiers and test sets only\n",
    "    Iterate through all runs and all folds to get feature importance graphs'''\n",
    "    for method in methods:\n",
    "        sv_all = {}\n",
    "        for run, fold in [(run, fold)for run in range(0, 5) for fold in range(0,5)]:\n",
    "            feats = None\n",
    "            sv = None\n",
    "\n",
    "            # Get first match (loop results in only one file)\n",
    "            for f in consts.OUTPUT_PATH_PRED.glob(f'feats_{fs}_{method}*_tuned_run_{run}_fold_{fold}.pkl'):\n",
    "                feats = pickle.load(open(f, 'rb'))\n",
    "                break\n",
    "\n",
    "            for f in consts.OUTPUT_PATH_PRED.glob(f'shap_values_{fs}_{method}*_tuned_run_{run}_fold_{fold}.pkl'):\n",
    "                sv = pickle.load(open(f, 'rb'))\n",
    "                break\n",
    "\n",
    "            if method == 'RF' or method == 'SVM': # Get results for positive class only\n",
    "                sv = sv[:, :, 1]\n",
    "\n",
    "            for i, feat in enumerate(feats):\n",
    "                if (sv_feat := sv_all.get(feat)) is not None:\n",
    "                    sv_all[feat] = None\n",
    "\n",
    "                sv_feat_curr = sv[:, i].values\n",
    "\n",
    "                if sv_feat is not None: # If current feature already has shap values\n",
    "                    sv_feat_curr = np.concatenate((sv_feat, sv_feat_curr)) # Tack the current ones on to the existing\n",
    "\n",
    "                # Update the dictionary of all shap values\n",
    "                sv_all.update({feat: sv_feat_curr})\n",
    "\n",
    "            \n",
    "        # Get the mean absolute value of all shap values for each feature\n",
    "        sv_all = {k: round(np.abs(v).mean(), 2) for k, v in sv_all.items()}\n",
    "\n",
    "        # Sort the dictionary\n",
    "        sv_all = {k.replace('_', ' ').capitalize(): v for k, v in sorted(sv_all.items(), key=lambda item: item[1], reverse=True)}\n",
    "\n",
    "        # Plot the dictionary (follow Lundberg's approach for summary plot\n",
    "        df = pd.DataFrame(sv_all, index=['mean(|SHAP value|)']).T\n",
    "        df.index.rename('feature', inplace=True)\n",
    "        df.reset_index(inplace=True)\n",
    "        df = df.iloc[:8, :]\n",
    "        \n",
    "        fig, ax = plt.subplots(figsize=(14, 8))\n",
    "        bars = ax.barh('feature', 'mean(|SHAP value|)', 0.7, align='center', color='teal', data=df)\n",
    "        ax.bar_label(bars, fmt='+ %g', label_type='edge', padding=5)\n",
    "\n",
    "        # plt.yticks('feature', fontsize=13)\n",
    "        plt.xlabel('mean(|SHAP value|)')\n",
    "#         plt.ylabel('feature')\n",
    "        plt.gca().invert_yaxis()\n",
    "        plt.gca().spines['right'].set_visible(False)\n",
    "        plt.gca().spines['top'].set_visible(False)\n",
    "        plt.gca().spines['left'].set_visible(False)\n",
    "        plt.savefig(f'results/washout/prediction_task/shap_all_{fs}_{method}.png', bbox_inches='tight')\n",
    "        plt.show()"
   ]
  }
 ],
 "metadata": {
  "kernelspec": {
   "display_name": "bcpn_mems",
   "language": "python",
   "name": "bcpn_mems"
  },
  "language_info": {
   "codemirror_mode": {
    "name": "ipython",
    "version": 3
   },
   "file_extension": ".py",
   "mimetype": "text/x-python",
   "name": "python",
   "nbconvert_exporter": "python",
   "pygments_lexer": "ipython3",
   "version": "3.9.7"
  }
 },
 "nbformat": 4,
 "nbformat_minor": 2
}
