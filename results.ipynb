{
 "cells": [
  {
   "cell_type": "code",
   "execution_count": null,
   "metadata": {},
   "outputs": [],
   "source": [
    "# IO\n",
    "import glob\n",
    "from pathlib import Path\n",
    "try:\n",
    "    import cPickle as pickle\n",
    "except ModuleNotFoundError:\n",
    "    import pickle\n",
    "\n",
    "import re\n",
    "\n",
    "# Utility Libraries\n",
    "import math\n",
    "from datetime import datetime\n",
    "import re\n",
    "import csv\n",
    "import itertools\n",
    "import inflection\n",
    "\n",
    "# Data Processing\n",
    "import pandas as pd\n",
    "import numpy as np\n",
    "from bcpn_pipeline import data, features, models, consts\n",
    "import shap\n",
    "\n",
    "# Viz\n",
    "%matplotlib inline\n",
    "import matplotlib as mpl\n",
    "from matplotlib.dates import DateFormatter\n",
    "from matplotlib.cbook import boxplot_stats\n",
    "import matplotlib.dates as mdates\n",
    "import matplotlib.transforms as mtrans\n",
    "import seaborn as sns\n",
    "sns.set_style(\"whitegrid\")\n",
    "\n",
    "import matplotlib.pyplot as plt\n",
    "plt.rcParams.update(\n",
    "    {'figure.autolayout': True, \n",
    "    }\n",
    ")\n",
    "# plt.rcParams.update({'figure.facecolor': [1.0, 1.0, 1.0, 1.0]})\n",
    "\n",
    "# configure autoreloading of modules\n",
    "%load_ext autoreload\n",
    "%autoreload 2\n"
   ]
  },
  {
   "cell_type": "markdown",
   "metadata": {},
   "source": [
    "# Load Results"
   ]
  },
  {
   "cell_type": "code",
   "execution_count": null,
   "metadata": {},
   "outputs": [],
   "source": [
    "pred_res = []\n",
    "pred_res_final = []\n",
    "for f in consts.OUTPUT_PATH_PRED.glob('*_pred.csv'):\n",
    "    df = pd.read_csv(f)\n",
    "\n",
    "    if 'final' in f.stem:\n",
    "        pred_res_final.append(df)\n",
    "    else:\n",
    "        pred_res.append(df)\n",
    "    \n",
    "pred_res = pd.concat(pred_res, axis=0).reset_index(drop=True)\n",
    "pred_res.drop(columns=['Unnamed: 0'], inplace=True)\n",
    "display(pred_res.head())\n",
    "\n",
    "pred_res_final = pd.concat(pred_res_final, axis=0).reset_index(drop=True)\n",
    "pred_res_final.drop(columns=['Unnamed: 0'], inplace=True)\n",
    "display(pred_res_final.head())"
   ]
  },
  {
   "cell_type": "code",
   "execution_count": null,
   "metadata": {},
   "outputs": [],
   "source": [
    "auc_res = []\n",
    "for f in consts.OUTPUT_PATH_PRED.glob('*_auc.csv'):\n",
    "    print(f)\n",
    "    df = pd.read_csv(f)\n",
    "    df.insert(4, 'method', re.split('_', f.stem)[2])\n",
    "    auc_res.append(df)\n",
    "    \n",
    "auc_res = pd.concat(auc_res, axis=0).reset_index(drop=True)\n",
    "auc_res.drop(columns=['Unnamed: 0'], inplace=True)\n",
    "display(auc_res.head())"
   ]
  },
  {
   "cell_type": "code",
   "execution_count": null,
   "metadata": {},
   "outputs": [],
   "source": [
    "roc_res_final = []\n",
    "for f in consts.OUTPUT_PATH_PRED.glob('*_roc.csv'):\n",
    "    if 'final' in f.stem:\n",
    "        df = pd.read_csv(f)\n",
    "        df.insert(0, 'featureset', '_'.join(re.split('_', f.stem)[:2]))\n",
    "        df.insert(0, 'method', re.split('_', f.stem)[2])\n",
    "        roc_res_final.append(df)\n",
    "    \n",
    "roc_res_final = pd.concat(roc_res_final, axis=0).reset_index(drop=True)\n",
    "roc_res_final.drop(columns=['Unnamed: 0'], inplace=True)\n",
    "roc_res_final"
   ]
  },
  {
   "cell_type": "code",
   "execution_count": null,
   "metadata": {},
   "outputs": [],
   "source": [
    "auc_res['type'] = 'test'\n",
    "roc_res['type'] = 'test'"
   ]
  },
  {
   "cell_type": "markdown",
   "metadata": {},
   "source": [
    "# Get aggregate results (including mean, std, and variance) across runs, by featureset and method"
   ]
  },
  {
   "cell_type": "code",
   "execution_count": null,
   "metadata": {},
   "outputs": [],
   "source": [
    "\n",
    "agg_res = None\n",
    "pred_res_agg = pd.DataFrame()\n",
    "groupby_cols = ['featureset', 'method', 'features_selected', 'tuned', 'type']\n",
    "metrics = ['accuracy', 'precision', 'sensitivity', 'specificity', 'f1_score']\n",
    "\n",
    "for metric in metrics:\n",
    "    agg_funcs = ['mean', 'std', 'var']\n",
    "    if metric != 'f1_score':\n",
    "        pred_res[metric] = pred_res[metric] * 100 # Scale to be reported as a percentage\n",
    "    \n",
    "    df = pred_res.groupby(groupby_cols)[metric].agg(agg_funcs).reset_index()\n",
    "    df.rename(columns={col: f'{metric}_{col}' for col in agg_funcs}, inplace=True)\n",
    "\n",
    "    if pred_res_agg.empty:\n",
    "        pred_res_agg = df\n",
    "    else:\n",
    "        pred_res_agg = pred_res_agg.merge(df, on=groupby_cols)\n",
    "\n",
    "pred_res_agg = pred_res_agg.merge(auc_res[['auc_mean', 'auc_std'] + groupby_cols], on=groupby_cols, how='outer')\n",
    "pred_res_agg.fillna(-1, inplace=True)\n",
    "pred_res_agg.to_csv(Path.joinpath(consts.OUTPUT_PATH_PRED, 'pred_agg.csv'))\n",
    "pred_res_agg"
   ]
  },
  {
   "cell_type": "code",
   "execution_count": null,
   "metadata": {},
   "outputs": [],
   "source": [
    "# Format column stats as mean +- std\n",
    "# Note that train AUC was not obtained, so it will be -1 +- (-1), as expected after filling nans\n",
    "\n",
    "for metric in metrics + ['auc']:\n",
    "    pred_res_agg.rename(columns={f'{metric}_mean': metric}, inplace=True)\n",
    "    pred_res_agg[metric] = pred_res_agg.apply(\n",
    "        lambda x: '%0.3f $\\pm$ %0.3f' % (x[metric], x[metric + '_std']),\n",
    "        axis=1\n",
    "    )\n",
    "pred_res_agg = pred_res_agg[groupby_cols + metrics + ['auc']]\n",
    "pred_res_agg.to_csv(Path.joinpath(consts.OUTPUT_PATH_PRED, 'pred_agg_condensed.csv'))\n",
    "pred_res_agg"
   ]
  },
  {
   "cell_type": "markdown",
   "metadata": {},
   "source": [
    "# Get Results for Final Classifier"
   ]
  },
  {
   "cell_type": "code",
   "execution_count": null,
   "metadata": {},
   "outputs": [],
   "source": [
    "# Add AUROC column\n",
    "# pred_res_final = pred_res_final[pred_res_final['type']=='test']\n",
    "# pred_res_final = pred_res_final.merge(roc_res_final[['method', 'featureset', 'auc']], on=['method', 'featureset'], how='left').drop_duplicates().reset_index(drop=True)\n",
    "pred_res_final.to_csv(Path.joinpath(consts.OUTPUT_PATH_PRED, 'pred_res_final.csv'))\n",
    "pred_res_final"
   ]
  },
  {
   "cell_type": "code",
   "execution_count": null,
   "metadata": {},
   "outputs": [],
   "source": [
    "# Display results for final classifiers as well as their params\n",
    "display(pred_res_final[pred_res_final['type']=='test'].sort_values(by=['featureset', 'specificity'], ascending=[True, False]))\n",
    "display(pred_res_final[pred_res_final['type']=='test'].sort_values(by=['featureset', 'auc'], ascending=[True, False]))"
   ]
  },
  {
   "cell_type": "code",
   "execution_count": null,
   "metadata": {},
   "outputs": [],
   "source": [
    "roc_res_final"
   ]
  },
  {
   "cell_type": "code",
   "execution_count": null,
   "metadata": {},
   "outputs": [],
   "source": [
    "# Create legend labels for ROC curve plotting\n",
    "roc_res_final['legend_label'] = roc_res_final.apply(\n",
    "    lambda x: '%s (AUC = %0.3f)' % (x['method'], x['auc']),\n",
    "    axis=1\n",
    ")\n",
    "roc_res_final"
   ]
  },
  {
   "cell_type": "markdown",
   "metadata": {},
   "source": [
    "# ROC Curves"
   ]
  },
  {
   "cell_type": "code",
   "execution_count": null,
   "metadata": {},
   "outputs": [],
   "source": [
    "featuresets = list(roc_res_final.featureset.unique())\n",
    "methods = list(roc_res_final.method.unique())\n",
    "\n",
    "fs_titles = {fs: None for fs in featuresets}\n",
    "for fs in fs_titles.keys():\n",
    "    title = 'Next-' \n",
    "    if 'day' in fs:\n",
    "        title = title + 'Day'\n",
    "    elif 'week' in fs:\n",
    "        title = title + 'Week'\n",
    "    elif 'month' in fs:\n",
    "        title = title + 'Month'\n",
    "    \n",
    "    title = title + ' Prediction w/' + ('Full' if 'all_scores' in fs else 'MEMS-Only') + ' Feature Set'\n",
    "    fs_titles[fs] = title\n",
    "fs_titles"
   ]
  },
  {
   "cell_type": "code",
   "execution_count": null,
   "metadata": {},
   "outputs": [],
   "source": [
    "featuresets"
   ]
  },
  {
   "cell_type": "markdown",
   "metadata": {},
   "source": [
    "## Optimized methods"
   ]
  },
  {
   "cell_type": "code",
   "execution_count": null,
   "metadata": {},
   "outputs": [],
   "source": [
    "fig, axes = plt.subplots(1, 2, figsize=(15,7.5), sharex=True, sharey=True)\n",
    "\n",
    "for i, fs in enumerate(featuresets):\n",
    "    print(fs)\n",
    "    df = roc_res_final[(roc_res_final['featureset'] == fs)]\n",
    "    g = sns.lineplot(x='fpr', y='tpr', hue='legend_label', data=df, ax=axes[i])\n",
    "    g.plot([0, 1], [0, 1], linestyle='--', lw=2, color='black',\n",
    "            label='Chance', alpha=.8)\n",
    "    axes[i].legend(title='', fontsize=12)\n",
    "  \n",
    "axes[0].set(xlabel='(A)', ylabel='')\n",
    "axes[1].set(xlabel='(B)')\n",
    "\n",
    "# fig.legend(title='Model', loc='upper center')\n",
    "fig.supxlabel('False Positive Rate', x = (fig.subplotpars.right + fig.subplotpars.left)/1.9)\n",
    "fig.supylabel('True Positive Rate', y = (fig.subplotpars.top + fig.subplotpars.bottom)/1.65)\n",
    "\n",
    "plt.savefig(Path.joinpath(consts.OUTPUT_PATH_PRED, f'roc_curves_optimized.png'))\n",
    "plt.show()"
   ]
  },
  {
   "cell_type": "code",
   "execution_count": null,
   "metadata": {},
   "outputs": [],
   "source": [
    "featuresets"
   ]
  },
  {
   "cell_type": "markdown",
   "metadata": {},
   "source": [
    "# Feature Importance"
   ]
  },
  {
   "cell_type": "code",
   "execution_count": null,
   "metadata": {},
   "outputs": [],
   "source": [
    "plt.rcParams.update({'font.size': 20})\n",
    "\n",
    "for fs in featuresets:\n",
    "    for method in methods:\n",
    "        f = list(consts.OUTPUT_PATH_PRED.glob(f'shap_values_{fs}_{method}*_tuned_final_clf.pkl'))[0]\n",
    "        shap_values = pickle.load(open(f, 'rb'))\n",
    "    \n",
    "        if method == 'RF' or method == 'SVM': # Get results for positive class only\n",
    "            shap_values = shap_values[:, :, 1]\n",
    "\n",
    "        f = list(consts.OUTPUT_PATH_PRED.glob(f'feats_{fs}_{method}*_tuned_final_clf.pkl'))[0]\n",
    "        feature_names = pickle.load(open(f, 'rb'))\n",
    "\n",
    "        feature_names = [x[0].upper() + x[1:].replace('_', ' ') for x in feature_names]\n",
    "\n",
    "        \n",
    "        shap.summary_plot(shap_values, feature_names=feature_names, max_display=20, show=False)\n",
    "        plt.savefig(f'results/washout/prediction_task/shap_all_{fs}_{method}.png', bbox_inches='tight')\n",
    "        plt.show()"
   ]
  }
 ],
 "metadata": {
  "kernelspec": {
   "display_name": "Python 3 (ipykernel)",
   "language": "python",
   "name": "python3"
  },
  "language_info": {
   "codemirror_mode": {
    "name": "ipython",
    "version": 3
   },
   "file_extension": ".py",
   "mimetype": "text/x-python",
   "name": "python",
   "nbconvert_exporter": "python",
   "pygments_lexer": "ipython3",
   "version": "3.10.13"
  }
 },
 "nbformat": 4,
 "nbformat_minor": 4
}
